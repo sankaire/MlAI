{
 "cells": [
  {
   "cell_type": "code",
   "execution_count": 1,
   "id": "62c45dc6",
   "metadata": {},
   "outputs": [
    {
     "name": "stdout",
     "output_type": "stream",
     "text": [
      "Hello Meeeen\n"
     ]
    }
   ],
   "source": [
    "print(\"Hello Meeeen\")"
   ]
  },
  {
   "cell_type": "code",
   "execution_count": 2,
   "id": "71fc1f10",
   "metadata": {},
   "outputs": [
    {
     "name": "stdout",
     "output_type": "stream",
     "text": [
      "20 Peter \"I am,\" Peter\n"
     ]
    }
   ],
   "source": [
    "#Variables\n",
    "\n",
    "age = 20\n",
    "name = 'Peter'\n",
    "word = '\"I am,\" Peter'\n",
    "\n",
    "print(age, name, word)"
   ]
  },
  {
   "cell_type": "code",
   "execution_count": 4,
   "id": "5c5468e5",
   "metadata": {},
   "outputs": [
    {
     "data": {
      "text/plain": [
       "7"
      ]
     },
     "execution_count": 4,
     "metadata": {},
     "output_type": "execute_result"
    }
   ],
   "source": [
    "#functions\n",
    "\n",
    "def add(a, b):\n",
    "    return a + b\n",
    "add(2, 5)"
   ]
  },
  {
   "cell_type": "code",
   "execution_count": null,
   "id": "4d47adad",
   "metadata": {},
   "outputs": [],
   "source": []
  }
 ],
 "metadata": {
  "kernelspec": {
   "display_name": "Python 3 (ipykernel)",
   "language": "python",
   "name": "python3"
  },
  "language_info": {
   "codemirror_mode": {
    "name": "ipython",
    "version": 3
   },
   "file_extension": ".py",
   "mimetype": "text/x-python",
   "name": "python",
   "nbconvert_exporter": "python",
   "pygments_lexer": "ipython3",
   "version": "3.9.7"
  }
 },
 "nbformat": 4,
 "nbformat_minor": 5
}
