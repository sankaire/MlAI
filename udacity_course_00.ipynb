{
 "cells": [
  {
   "cell_type": "code",
   "execution_count": 4,
   "id": "834503fa",
   "metadata": {},
   "outputs": [
    {
     "data": {
      "text/plain": [
       "9"
      ]
     },
     "execution_count": 4,
     "metadata": {},
     "output_type": "execute_result"
    }
   ],
   "source": [
    "def sum(a, b):\n",
    "    return a + b\n",
    "sum(2, 7)"
   ]
  },
  {
   "cell_type": "code",
   "execution_count": 3,
   "id": "20d2b54b",
   "metadata": {},
   "outputs": [
    {
     "name": "stdout",
     "output_type": "stream",
     "text": [
      "I am the flash\n"
     ]
    }
   ],
   "source": [
    "print(\"I am the flash\")"
   ]
  },
  {
   "cell_type": "code",
   "execution_count": 8,
   "id": "87138672",
   "metadata": {},
   "outputs": [],
   "source": [
    "#markdown\n",
    "##heading 2\n",
    "### heading 3"
   ]
  },
  {
   "cell_type": "markdown",
   "id": "34b9280e",
   "metadata": {},
   "source": [
    "[Udacity's-home-page](https://www.udacity.com)"
   ]
  },
  {
   "cell_type": "markdown",
   "id": "9216fb85",
   "metadata": {},
   "source": [
    "```\n",
    "import requests\n",
    "response = requests.get('https://www.udacity.com')\n",
    "```"
   ]
  },
  {
   "cell_type": "code",
   "execution_count": 18,
   "id": "394f2bbc",
   "metadata": {},
   "outputs": [],
   "source": [
    "from math import sqrt\n",
    "\n",
    "def fibo1(n):\n",
    "    if n == 0:\n",
    "        return 0\n",
    "    elif n == 1:\n",
    "        return 1\n",
    "    return fibo1(n - 1) + fibo1(n - 2)\n",
    "def fibo2(n):\n",
    "    return((1 + sqrt(5)) **n - (1 - sqrt(5)) ** n)/(2**n*sqrt(5))"
   ]
  },
  {
   "cell_type": "code",
   "execution_count": 19,
   "id": "e55e4006",
   "metadata": {},
   "outputs": [
    {
     "name": "stdout",
     "output_type": "stream",
     "text": [
      "2.36 ms ± 70.4 µs per loop (mean ± std. dev. of 7 runs, 100 loops each)\n"
     ]
    }
   ],
   "source": [
    "%timeit fibo1(20)"
   ]
  },
  {
   "cell_type": "code",
   "execution_count": 20,
   "id": "c0eccf50",
   "metadata": {},
   "outputs": [
    {
     "name": "stdout",
     "output_type": "stream",
     "text": [
      "758 ns ± 3.41 ns per loop (mean ± std. dev. of 7 runs, 1000000 loops each)\n"
     ]
    }
   ],
   "source": [
    "%timeit fibo2(20)"
   ]
  },
  {
   "cell_type": "code",
   "execution_count": 23,
   "id": "f768a6bb",
   "metadata": {},
   "outputs": [
    {
     "name": "stdout",
     "output_type": "stream",
     "text": [
      "77.6 µs ± 459 ns per loop (mean ± std. dev. of 7 runs, 10000 loops each)\n"
     ]
    }
   ],
   "source": [
    "%%timeit\n",
    "import random\n",
    "\n",
    "prize = 0\n",
    "\n",
    "for ii in range(100):\n",
    "    #roll a die\n",
    "    roll = random.randint(1, 6)\n",
    "    if roll%2 == 0:\n",
    "        prize += roll\n",
    "    else: \n",
    "        prize -= 1"
   ]
  },
  {
   "cell_type": "code",
   "execution_count": null,
   "id": "e3619f58",
   "metadata": {},
   "outputs": [],
   "source": []
  }
 ],
 "metadata": {
  "kernelspec": {
   "display_name": "Python 3 (ipykernel)",
   "language": "python",
   "name": "python3"
  },
  "language_info": {
   "codemirror_mode": {
    "name": "ipython",
    "version": 3
   },
   "file_extension": ".py",
   "mimetype": "text/x-python",
   "name": "python",
   "nbconvert_exporter": "python",
   "pygments_lexer": "ipython3",
   "version": "3.9.7"
  }
 },
 "nbformat": 4,
 "nbformat_minor": 5
}
